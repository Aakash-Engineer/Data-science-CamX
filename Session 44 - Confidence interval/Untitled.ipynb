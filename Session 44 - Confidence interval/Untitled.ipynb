{
 "cells": [
  {
   "cell_type": "code",
   "execution_count": 1,
   "id": "478c99d0-2333-428c-9f6a-fae452ddb961",
   "metadata": {},
   "outputs": [],
   "source": [
    "import numpy as np\n",
    "import pandas as pd\n",
    "import seaborn as sns\n",
    "import scipy.stats as stats\n",
    "import matplotlib.pyplot as plt"
   ]
  },
  {
   "cell_type": "markdown",
   "id": "c7f2a2a8-7584-4f9b-baeb-c39bb437932c",
   "metadata": {},
   "source": [
    "### Confidence level using Z-test"
   ]
  },
  {
   "cell_type": "code",
   "execution_count": 30,
   "id": "dc9674aa-5e7c-4166-81cd-b2a8150ec48d",
   "metadata": {},
   "outputs": [],
   "source": [
    "normal = np.random.normal(loc=25, scale=5, size=1000)"
   ]
  },
  {
   "cell_type": "code",
   "execution_count": 38,
   "id": "5f075524-f091-48a9-b4fa-a5a429f1a190",
   "metadata": {},
   "outputs": [
    {
     "data": {
      "text/plain": [
       "(23.22775871350621, 26.890257545870025)"
      ]
     },
     "execution_count": 38,
     "metadata": {},
     "output_type": "execute_result"
    }
   ],
   "source": [
    "\n",
    "confidence_level = 0.95\n",
    "sample_size=30\n",
    "sampling_dist = []\n",
    "\n",
    "for i in range(10):\n",
    "    sample = np.random.choice(normal, sample_size, replace=True)\n",
    "    sampling_dist.append(sample.mean())\n",
    "margine_of_error = abs(stats.norm.ppf((1-confidence_level)/2))*(normal.std()/np.sqrt(sample_size))\n",
    "# Confidence interval\n",
    "np.mean(sampling_dist) - margine_of_error, np.mean(sampling_dist) + margine_of_error"
   ]
  },
  {
   "cell_type": "markdown",
   "id": "386ca575-3034-44c6-bd03-6da6564961f0",
   "metadata": {},
   "source": [
    "### Confidence using T-test"
   ]
  },
  {
   "cell_type": "code",
   "execution_count": 58,
   "id": "7aecc6b6-8fd1-470a-be6a-c2baa4944edd",
   "metadata": {},
   "outputs": [
    {
     "data": {
      "text/plain": [
       "(24.02918610893792, 24.493477139818516)"
      ]
     },
     "execution_count": 58,
     "metadata": {},
     "output_type": "execute_result"
    }
   ],
   "source": [
    "\n",
    "confidence_level = 0.95\n",
    "sample_size=30\n",
    "df = sample_size - 1\n",
    "sampling_dist = []\n",
    "\n",
    "for i in range(10):\n",
    "    sample = np.random.choice(normal, sample_size, replace=True)\n",
    "    sampling_dist.append(sample.mean())\n",
    "margine_of_error = abs(stats.t.ppf(q=(1-confidence_level)/2, df=df)) * (np.std(sampling_dist)/np.sqrt(sample_size))\n",
    "# Confidence interval\n",
    "np.mean(sampling_dist) - margine_of_error, np.mean(sampling_dist) + margine_of_error\n",
    "\n"
   ]
  },
  {
   "cell_type": "code",
   "execution_count": 59,
   "id": "16826cca-a86b-45c2-adc2-69afdbd92733",
   "metadata": {},
   "outputs": [
    {
     "data": {
      "text/plain": [
       "(23.859243796886357, 24.66341945187008)"
      ]
     },
     "execution_count": 59,
     "metadata": {},
     "output_type": "execute_result"
    }
   ],
   "source": [
    "import numpy as np  \n",
    "from scipy import stats  \n",
    "\n",
    "confidence_level = 0.95  \n",
    "sample_size = 30  \n",
    "df = sample_size - 1  \n",
    "# sampling_dist = []  \n",
    "\n",
    "# Assume normal is an existing numpy array of your population data  \n",
    "# for i in range(10):  \n",
    "#     sample = np.random.choice(normal, sample_size, replace=True)  \n",
    "#     sampling_dist.append(sample.mean())  \n",
    "\n",
    "# Calculate the mean of the sampling distribution and its standard deviation  \n",
    "sampling_mean = np.mean(sampling_dist)  \n",
    "sampling_std = np.std(sampling_dist)  \n",
    "\n",
    "# Calculate the margin of error  \n",
    "margin_of_error = abs(stats.t.ppf(q=(1-confidence_level)/2, df=df)) * (sampling_std / np.sqrt(len(sampling_dist)))  \n",
    "\n",
    "# Confidence interval  \n",
    "confidence_interval = (sampling_mean - margin_of_error, sampling_mean + margin_of_error)  \n",
    "confidence_interval"
   ]
  },
  {
   "cell_type": "code",
   "execution_count": 60,
   "id": "4c2bf309-5c71-4400-a903-9b1078b8de4c",
   "metadata": {},
   "outputs": [
    {
     "data": {
      "text/plain": [
       "10"
      ]
     },
     "execution_count": 60,
     "metadata": {},
     "output_type": "execute_result"
    }
   ],
   "source": [
    "len(sampling_dist)"
   ]
  },
  {
   "cell_type": "code",
   "execution_count": null,
   "id": "b47a3a86-620c-4642-acac-7978d41fbcfa",
   "metadata": {},
   "outputs": [],
   "source": []
  }
 ],
 "metadata": {
  "kernelspec": {
   "display_name": "Python 3 (ipykernel)",
   "language": "python",
   "name": "python3"
  },
  "language_info": {
   "codemirror_mode": {
    "name": "ipython",
    "version": 3
   },
   "file_extension": ".py",
   "mimetype": "text/x-python",
   "name": "python",
   "nbconvert_exporter": "python",
   "pygments_lexer": "ipython3",
   "version": "3.12.4"
  }
 },
 "nbformat": 4,
 "nbformat_minor": 5
}
