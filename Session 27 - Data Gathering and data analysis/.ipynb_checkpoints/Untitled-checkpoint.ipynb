{
 "cells": [
  {
   "cell_type": "markdown",
   "id": "316676aa-0df2-488c-a9a9-836c76c09b8b",
   "metadata": {},
   "source": [
    "# Data Analysis process\n",
    "\n",
    "* Asking thr right question\n",
    "* Data wrangling\n",
    "  * Data gathering\n",
    "  * Data assement\n",
    "  * Data cleaning\n",
    "* EDA\n",
    "  * Explore Data\n",
    "  * Augmenting data (Feature Engineering)\n",
    "    * removing ouliers\n",
    "    * merging data\n",
    "* Drawing conclusions\n",
    "  * Machine learning\n",
    "  * Inferential stats\n",
    "  * Discriptive stats\n",
    "* Communicate results (Storytelling)\n",
    "\n",
    "\n",
    "This process is not necessarily sequential, we use trial and error methods"
   ]
  }
 ],
 "metadata": {
  "kernelspec": {
   "display_name": "Python 3 (ipykernel)",
   "language": "python",
   "name": "python3"
  },
  "language_info": {
   "codemirror_mode": {
    "name": "ipython",
    "version": 3
   },
   "file_extension": ".py",
   "mimetype": "text/x-python",
   "name": "python",
   "nbconvert_exporter": "python",
   "pygments_lexer": "ipython3",
   "version": "3.12.4"
  }
 },
 "nbformat": 4,
 "nbformat_minor": 5
}
